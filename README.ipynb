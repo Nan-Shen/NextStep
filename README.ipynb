{
 "cells": [
  {
   "cell_type": "markdown",
   "metadata": {},
   "source": [
    "# NextStep\n",
    "## A Random Walk Down Wall Street\n",
    "NextStep is a tool to extract time-series features of history stock prices and then based on these feature, predict future changes using machine learning models. \n",
    "\n",
    "It takes Yahoo history stock price as input. You can specify the dates you want to include in your model. It will make the last 100 entries as testing data and all the rest as training data. Then, it will automatically select the best feature selection strategy (recursive feature enimilation, random forest w/o PCA or PCA only) and the best paramters for SVM or Neural Network model. The end product will be a list of models sorted by their cross validation precision score.\n",
    "\n",
    "You can install this tool and use code below to predict changes 5 days later(set by option n):"
   ]
  },
  {
   "cell_type": "code",
   "execution_count": null,
   "metadata": {
    "collapsed": true
   },
   "outputs": [],
   "source": [
    "model.py -i $PWD/targetstock.csv -s $PWD/S&P500index.csv -n $PWD/NASDAQindex.csv -o output_fp --start 2013-01-03 --end 2017-12-29 -n 5 "
   ]
  },
  {
   "cell_type": "markdown",
   "metadata": {},
   "source": [
    "## Dependencies\n",
    "Numpy\n",
    "\n",
    "matplotlib\n",
    "\n",
    "Pandas \n",
    "\n",
    "datetime\n",
    "\n",
    "click\n",
    "\n",
    "Seaborn\n",
    "\n",
    "Scikit-learn\n",
    "\n",
    "Scikit-plot"
   ]
  }
 ],
 "metadata": {
  "kernelspec": {
   "display_name": "Python 2",
   "language": "python",
   "name": "python2"
  },
  "language_info": {
   "codemirror_mode": {
    "name": "ipython",
    "version": 2
   },
   "file_extension": ".py",
   "mimetype": "text/x-python",
   "name": "python",
   "nbconvert_exporter": "python",
   "pygments_lexer": "ipython2",
   "version": "2.7.13"
  }
 },
 "nbformat": 4,
 "nbformat_minor": 2
}
